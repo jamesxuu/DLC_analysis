{
 "cells": [
  {
   "cell_type": "code",
   "execution_count": null,
   "metadata": {},
   "outputs": [],
   "source": [
    "import pandas as pd\n",
    "import numpy as np\n",
    "import matplotlib.pyplot as plt\n",
    "\n",
    "# Data from user\n",
    "data = {\n",
    "    'eccentricity': [0.6, 0.6, 0.6, 0.6, 0.3, 0.3, 0.3, 0.3, 0, 0, 0, 0],\n",
    "    'v': [3.761904762, 3.45, 4.111111111, 4.5, 5.416666667, 5.909090909, 5.5, 4.181818182, 5.484, 5.830023529, 6.427733333, 4.479709091],\n",
    "    'BL/cycle': [0.070535714, 0.071875, 0.074, 0.07826087, 0.116071429, 0.1015625, 0.11, 0.088461538, 0.104457143, 0.112625455, 0.12576, 0.087994286]\n",
    "}\n",
    "\n",
    "df = pd.DataFrame(data)\n",
    "\n",
    "# Group by eccentricity to calculate mean and standard deviation\n",
    "grouped = df.groupby('eccentricity').agg({'v': ['mean', 'std'], 'BL/cycle': ['mean', 'std']})\n",
    "\n",
    "# Plotting with y-axes starting from 0 and using red and blue colors\n",
    "fig, ax1 = plt.subplots(figsize=(10, 6))\n",
    "\n",
    "# Left y-axis for velocity\n",
    "ax1.errorbar(grouped.index, grouped['v']['mean'], yerr=grouped['v']['std'], fmt='o-', label='Velocity (cm/s)', color='red')\n",
    "ax1.set_xlabel('Eccentricity')\n",
    "ax1.set_ylabel('Velocity (cm/s)', color='red')\n",
    "ax1.tick_params(axis='y', labelcolor='red')\n",
    "ax1.set_ylim(0, max(grouped['v']['mean'] + grouped['v']['std']) * 1.1)  # Set y-axis from 0\n",
    "ax1.set_xticks([0, 0.3, 0.6])  # Only show the labels for 0, 0.3, and 0.6 on x-axis\n",
    "\n",
    "# Right y-axis for Displacement (BL/cycle)\n",
    "ax2 = ax1.twinx()\n",
    "ax2.errorbar(grouped.index, grouped['BL/cycle']['mean'], yerr=grouped['BL/cycle']['std'], fmt='s-', label='Displacement (BL/cycle)', color='blue')\n",
    "ax2.set_ylabel('Displacement (BL/cycle)', color='blue')\n",
    "ax2.tick_params(axis='y', labelcolor='blue')\n",
    "ax2.set_ylim(0, max(grouped['BL/cycle']['mean'] + grouped['BL/cycle']['std']) * 1.1)  # Set y-axis from 0\n",
    "\n",
    "plt.title('Velocity and Displacement vs Eccentricity')\n",
    "\n",
    "plt.show()\n"
   ]
  }
 ],
 "metadata": {
  "language_info": {
   "name": "python"
  }
 },
 "nbformat": 4,
 "nbformat_minor": 2
}
